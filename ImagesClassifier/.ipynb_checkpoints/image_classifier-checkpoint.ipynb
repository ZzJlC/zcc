{
 "cells": [
  {
   "cell_type": "code",
   "execution_count": 2,
   "id": "f954c1a3",
   "metadata": {},
   "outputs": [
    {
     "name": "stderr",
     "output_type": "stream",
     "text": [
      "E:\\Users\\zhangchu\\miniconda3\\envs\\deeplearning\\lib\\site-packages\\torchvision\\models\\_utils.py:209: UserWarning: The parameter 'pretrained' is deprecated since 0.13 and may be removed in the future, please use 'weights' instead.\n",
      "  f\"The parameter '{pretrained_param}' is deprecated since 0.13 and may be removed in the future, \"\n",
      "E:\\Users\\zhangchu\\miniconda3\\envs\\deeplearning\\lib\\site-packages\\torchvision\\models\\_utils.py:223: UserWarning: Arguments other than a weight enum or `None` for 'weights' are deprecated since 0.13 and may be removed in the future. The current behavior is equivalent to passing `weights=DenseNet161_Weights.IMAGENET1K_V1`. You can also use `weights=DenseNet161_Weights.DEFAULT` to get the most up-to-date weights.\n",
      "  warnings.warn(msg)\n"
     ]
    }
   ],
   "source": [
    "import io\n",
    "import torch\n",
    "from torchvision import models\n",
    "from PIL import Image\n",
    "from torchvision import transforms\n",
    "import json\n",
    "\n",
    "# 读取 json 文件: ImageNet的类别名称\n",
    "with open(\"idx_class.json\") as f:\n",
    "    idx_class = json.load(f)\n",
    "\n",
    "device = torch.device('cuda' if torch.cuda.is_available() else 'cpu')\n",
    "model = models.densenet161(pretrained=True) # 预训练模型\n",
    "model.to(device)\n",
    "model.eval() # 进行Inference\n",
    "# 定义模型函数\n",
    "# def create_model():\n",
    "#     model_path = \"densenet161.pth\" # 模型路径\n",
    "#     model = models.densenet161(pretrained=True) # 下载预训练模型\n",
    "#     model.load_state_dict(torch.load(model_path, map_location=\"cpu\"), strict=False)\n",
    "#     model.eval() # 模型验证\n",
    "#     return model\n",
    "\n",
    "# 定义transform\n",
    "def image_transformer(image_data):\n",
    "    # 变换操作定义\n",
    "    transform = transforms.Compose([\n",
    "        transforms.Resize(256), # 改变size=256\n",
    "        transforms.CenterCrop(224), # 中心裁剪size=224\n",
    "        transforms.ToTensor(), # 转换为tensor类型\n",
    "        transforms.Normalize(mean=(0.485, 0.456, 0.406),\n",
    "                             std=(0.229, 0.224, 0.225))\n",
    "    ])\n",
    "    # 读取图片\n",
    "    image = Image.open(io.BytesIO(image_data)) # 读取图片, BytesIO实现了在内存中读写bytes\n",
    "    trans = transform(image).unsqueeze(0)\n",
    "    #print(\"trans shape : \", trans.shape)\n",
    "    return trans\n",
    "\n",
    "# 定义预测图片的函数\n",
    "def predict_image(image_data):\n",
    "    # 读取转换后的图片\n",
    "    image_tensor = image_transformer(image_data).to(device)\n",
    "    # 模型预测\n",
    "    output = model(image_tensor)\n",
    "    # 获取最大概率值得下标\n",
    "    #print('output shape : ', output.shape)\n",
    "    _, prediction = output.max(1)\n",
    "    #print('prediction : ', prediction.shape)\n",
    "    # 获取目标索引\n",
    "    object_index = prediction.item()\n",
    "    #print(\"object_index type : \", type(object_index))\n",
    "    # 返回对应的类别\n",
    "    return idx_class[object_index]\n",
    "\n",
    "# 定义预测图片的函数（多张图片）\n",
    "def batch_prediction(image_batch):\n",
    "    image_tensors = [image_transformer(img) for img in image_batch] # 对每一张图片进行transform\n",
    "    tensor = torch.cat(image_tensors).to(device) # 合并所有tensor\n",
    "    outputs = model(tensor) # 预测输出\n",
    "    _, predictions = outputs.max(1) # 获取每张图片预测率最大值的下标\n",
    "    predictions_ids = predictions.tolist() # 结果保存为List\n",
    "    return [idx_class[id] for id in predictions_ids]"
   ]
  }
 ],
 "metadata": {
  "kernelspec": {
   "display_name": "Python 3 (ipykernel)",
   "language": "python",
   "name": "python3"
  },
  "language_info": {
   "codemirror_mode": {
    "name": "ipython",
    "version": 3
   },
   "file_extension": ".py",
   "mimetype": "text/x-python",
   "name": "python",
   "nbconvert_exporter": "python",
   "pygments_lexer": "ipython3",
   "version": "3.7.12"
  }
 },
 "nbformat": 4,
 "nbformat_minor": 5
}
