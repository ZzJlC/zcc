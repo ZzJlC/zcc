{
 "cells": [
  {
   "cell_type": "code",
   "execution_count": null,
   "id": "e148aa89",
   "metadata": {},
   "outputs": [],
   "source": [
    "from flask import Flask, request, jsonify\n",
    "from image_classifier import predict_image, batch_prediction\n",
    "from service_streamer import ThreadedStreamer\n",
    "\n",
    "import ssl\n",
    "# 在使用URLopen方法的时候，当目标网站使用的是自签名的证书时就会抛出这个错误\n",
    "# 全局取消证书验证\n",
    "ssl._create_default_https_context = ssl._create_unverified_context\n",
    "\n",
    "# 创建Flask app 和 模型\n",
    "app = Flask(__name__)\n",
    "\n",
    "# route\n",
    "@app.route('/predict', methods=['POST'])\n",
    "def predicted():\n",
    "    if 'image' not in request.files:\n",
    "        return jsonify({'error', 'Image not found'}),400\n",
    "    if request.method == 'POST':\n",
    "        image = request.files['image'].read() # 读取图片\n",
    "        object_name = predict_image(image) # 预测结果\n",
    "        return jsonify({'object_name':object_name}) #  jsonify 确保 response为 json格式\n",
    "\n",
    "\n",
    "streamer = ThreadedStreamer(batch_prediction, batch_size=24) # 每次预测24张图片\n",
    "@app.route('/stream_predict', methods=['POST'])\n",
    "def stream_predict():\n",
    "    if request.method == 'POST':\n",
    "        image = request.files['image2'].read() # 读取图片\n",
    "        # print(\"streamer shape : \", streamer.predict([image]).shape)\n",
    "        object_name = streamer.predict([image])[0] # 预测输出\n",
    "        return jsonify({'object_name':object_name})\n",
    "\n",
    "if __name__ == '__main__':\n",
    "    app.run(debug=True)"
   ]
  }
 ],
 "metadata": {
  "kernelspec": {
   "display_name": "Python 3 (ipykernel)",
   "language": "python",
   "name": "python3"
  },
  "language_info": {
   "codemirror_mode": {
    "name": "ipython",
    "version": 3
   },
   "file_extension": ".py",
   "mimetype": "text/x-python",
   "name": "python",
   "nbconvert_exporter": "python",
   "pygments_lexer": "ipython3",
   "version": "3.7.12"
  }
 },
 "nbformat": 4,
 "nbformat_minor": 5
}
