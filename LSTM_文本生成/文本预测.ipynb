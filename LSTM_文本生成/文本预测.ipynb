{
 "cells": [
  {
   "cell_type": "code",
   "execution_count": 1,
   "id": "c803d526",
   "metadata": {},
   "outputs": [],
   "source": [
    "import torch\n",
    "from torch import nn, optim\n",
    "import torch.nn.functional as F\n",
    "\n",
    "import numpy as np\n",
    "import pandas as pd\n",
    "import matplotlib.pyplot as plt\n",
    "\n",
    "import seaborn as sns\n",
    "\n",
    "from sklearn.preprocessing import OneHotEncoder, LabelEncoder"
   ]
  },
  {
   "cell_type": "code",
   "execution_count": 2,
   "id": "e86c96ab",
   "metadata": {},
   "outputs": [],
   "source": [
    "# 定义网络\n",
    "class lstm_model(nn.Module):\n",
    "    def __init__(self, vocab, hidden_size, num_layers, dropout=0.5):\n",
    "        super(lstm_model, self).__init__()\n",
    "        self.vocab = vocab # 字符数据集\n",
    "        # 索引: 字符\n",
    "        self.int_char = {i : char for i, char in enumerate(vocab)}\n",
    "        # 字符: 索引\n",
    "        self.char_int = {char : i for i, char in self.int_char.items()}\n",
    "        # 对字符进行one-hot encoding\n",
    "        self.encoder = OneHotEncoder(sparse=False).fit(vocab.reshape(-1, 1)) # 需要对vocab进行shape转换\n",
    "        \n",
    "        self.hidden_size = hidden_size\n",
    "        self.num_layers = num_layers\n",
    "        \n",
    "        # lstm层\n",
    "        self.lstm = nn.LSTM(len(vocab), hidden_size, num_layers, batch_first=True, dropout=dropout)\n",
    "        \n",
    "        # 全连接层\n",
    "        self.linear = nn.Linear(hidden_size, len(vocab))\n",
    "        \n",
    "    def forward(self, sequence, hs=None):\n",
    "        out, hs = self.lstm(sequence, hs) # lstm的输出格式: (batch_size, sequence_length, hidden_size)\n",
    "        out = out.reshape(-1, self.hidden_size) # 需要将out转换为linear的输入格式, 即(batch_size*sequence_length, hidden_size)\n",
    "        output = self.linear(out) # linear的输出格式: (batch_size*sequence_length, vocab_size)\n",
    "        return output, hs\n",
    "    \n",
    "    def onehot_encode(self, data):\n",
    "        return self.encoder.transform(data)\n",
    "    \n",
    "    def onehot_decode(self, data):\n",
    "        return self.encoder.inverse_transform(data)\n",
    "    \n",
    "    def label_encode(self, data):\n",
    "        return np.array([self.char_int[ch] for ch in data])\n",
    "    \n",
    "    def label_decode(self, data):\n",
    "        return np.array([self.int_char[ch] for ch in data])"
   ]
  },
  {
   "cell_type": "code",
   "execution_count": 3,
   "id": "31301555",
   "metadata": {},
   "outputs": [],
   "source": [
    "# 定义构建新数据集的批处理方法\n",
    "def get_batches(data, batch_size, seq_len):\n",
    "    \"\"\"\n",
    "    参数\n",
    "    --------------\n",
    "    data: 源数据, 输入格式(num_samples, num_features)\n",
    "    batch_size: batch的大小\n",
    "    seq_len: 序列的长度(跨度)\n",
    "    \n",
    "    return\n",
    "    --------------\n",
    "    新的数据集, 格式: (batch_size, seq_len, num_features)\n",
    "    \"\"\"\n",
    "    num_features = data.shape[1] # 数据的列数, 即特征数(本案例83个不同的字符)\n",
    "    num_chars = batch_size * seq_len # 一个batch_size的字符数量\n",
    "    num_batches = int(np.floor(len(data) / num_chars)) # 计算出有多少个batches\n",
    "    need_chars = num_batches * num_chars # 根据batch_size 和 batches 计算出所需的总字符数量\n",
    "    targets = np.append(data[1:], data[0]).reshape(data.shape) # 标签数据, 注意: 标签数据是往后全部挪一位\n",
    "    \n",
    "    inputs = data[:need_chars] # 从原始数据data中截取所需的字符数量need_words\n",
    "    targets = targets[:need_chars] # 从原始标签targets中截取所需的字符数量need_words\n",
    "    \n",
    "    # shape转换\n",
    "    inputs = inputs.reshape(batch_size, -1, num_features)\n",
    "    targets = targets.reshape(batch_size, -1, num_features)\n",
    "    \n",
    "    # 构建新的数据集\n",
    "    for i in range(0, inputs.shape[1], seq_len):\n",
    "        x = inputs[:, i: i+seq_len]\n",
    "        y = targets[:, i : i+seq_len]\n",
    "        yield x, y"
   ]
  },
  {
   "cell_type": "code",
   "execution_count": 4,
   "id": "c589c96b",
   "metadata": {},
   "outputs": [],
   "source": [
    "# 定义训练函数\n",
    "def train(model, data, batch_size, seq_len, epochs, lr=0.01, valid=None):\n",
    "    \"\"\"\n",
    "    参数说明\n",
    "    ---------------\n",
    "    model: 定义的字符级网络模型\n",
    "    data: 文本数据\n",
    "    batch_size: 一个batch多少个数据\n",
    "    seq_len: 序列长度(步长)\n",
    "    epochs: 训练循环次数\n",
    "    lr: 学习率\n",
    "    valid: 验证数据\n",
    "    \"\"\"\n",
    "    # 是否有cuda\n",
    "    device = 'cuda' if torch.cuda.is_available() else 'cpu'\n",
    "    # 部署模型到device\n",
    "    model = model.to(device)\n",
    "    # 优化器\n",
    "    optimizer = optim.Adam(model.parameters(), lr=lr)\n",
    "    # 损失函数\n",
    "    criterion = nn.CrossEntropyLoss()\n",
    "    # 判断是否有valid数据(即是否边训练边验证)\n",
    "    if valid is not None:\n",
    "        data = model.onehot_encode(data.reshape(-1, 1))\n",
    "        valid = model.onehot_encode(valid.reshape(-1, 1))\n",
    "    else :\n",
    "        data = model.onehot_encode(data.reshape(-1, 1))\n",
    "    # 保存损失值\n",
    "    train_loss = []\n",
    "    val_loss = []\n",
    "    # 循环训练(验证)\n",
    "    for epoch in range(epochs):\n",
    "        model.train()\n",
    "        hs = None # hs 等于 hidden_size, 隐藏层结点\n",
    "        train_ls = 0.0\n",
    "        val_ls = 0.0\n",
    "        for x, y in get_batches(data, batch_size, seq_len):\n",
    "            # 每一轮循环, 生成一批 数据+标签(data+target)\n",
    "            optimizer.zero_grad() # 梯度置零\n",
    "            x = torch.tensor(x).float().to(device) # ；类型转换\n",
    "            # 模型训练\n",
    "            out, hs = model(x, hs) # 模型输出shape: (batch_size, sequence_length, hidden_size)\n",
    "            hs = ([h.data for h in hs]) # 读取每一个hidden_size的结点\n",
    "            # 对targets的one-hot encoding进行转换\n",
    "            y = y.reshape(-1, len(model.vocab))\n",
    "            y = model.onehot_decode(y)\n",
    "            # 对y进行label encoding\n",
    "            y = model.label_encode(y.squeeze())\n",
    "            # 类型转换\n",
    "            y = torch.from_numpy(y).long().to(device)\n",
    "            # 计算损失函数\n",
    "            loss = criterion(out, y.squeeze())\n",
    "            # 反向传播\n",
    "            loss.backward()\n",
    "            # 参数更新\n",
    "            optimizer.step()\n",
    "            # 累计训练损失\n",
    "            train_ls += loss.item()\n",
    "            \n",
    "        if valid is not None:\n",
    "            # 开始验证\n",
    "            model.eval()\n",
    "            hs = None\n",
    "            with torch.no_grad():\n",
    "                for x, y in get_batches(valid, batch_size, seq_len):\n",
    "                    x = torch.tensor(x).float().to(device)\n",
    "                    out, hs = model(x, hs) # 预测输出\n",
    "                    hs = ([h.data for h in hs])\n",
    "                    \n",
    "                    y = y.reshape(-1, len(model.vocab))\n",
    "                    y = model.onehot_decode(y)\n",
    "                    y = model.label_encode(y.squeeze())\n",
    "                    y = torch.from_numpy(y).long().to(device)\n",
    "                    \n",
    "                    loss = criterion(out, y.squeeze())\n",
    "                    val_ls += loss.item()\n",
    "                    \n",
    "                val_loss.append(np.mean(val_ls)) # 求出每一轮的损失均值, 并累计\n",
    "            \n",
    "            train_loss.append(np.mean(train_ls)) # 求出每一轮的损失均值, 并累计\n",
    "            \n",
    "        print(f'----------------Epochs{epochs} | {epoch}------------------')\n",
    "        print(f'Train Loss : {train_loss[-1]}')\n",
    "        if val_loss:\n",
    "            print(f'Val Loss : {val_loss[-1]}')\n",
    "            \n",
    "    # 绘制loss曲线\n",
    "    plt.plot(train_loss, label='Train Loss')\n",
    "    plt.plot(val_loss, label='Val Loss')\n",
    "    plt.title('Loss vs Epochs')\n",
    "    plt.legend()\n",
    "    plt.show()"
   ]
  },
  {
   "cell_type": "code",
   "execution_count": 5,
   "id": "d1c93edf",
   "metadata": {},
   "outputs": [],
   "source": [
    "# 获取数据\n",
    "with open(\"anna.txt\") as data:\n",
    "    text = data.read()"
   ]
  },
  {
   "cell_type": "code",
   "execution_count": 6,
   "id": "5d43c41b",
   "metadata": {},
   "outputs": [
    {
     "data": {
      "text/plain": [
       "'Chapter 1\\n\\n\\nHappy families are all alike; every unhappy family is unhappy in its own\\nway.\\n\\nEverythin'"
      ]
     },
     "execution_count": 6,
     "metadata": {},
     "output_type": "execute_result"
    }
   ],
   "source": [
    "# 显示前100个字符\n",
    "text[:100]"
   ]
  },
  {
   "cell_type": "code",
   "execution_count": 7,
   "id": "2898690d",
   "metadata": {},
   "outputs": [
    {
     "data": {
      "text/plain": [
       "array(['\\n', ' ', '!', '\"', '$', '%', '&', \"'\", '(', ')', '*', ',', '-',\n",
       "       '.', '/', '0', '1', '2', '3', '4', '5', '6', '7', '8', '9', ':',\n",
       "       ';', '?', '@', 'A', 'B', 'C', 'D', 'E', 'F', 'G', 'H', 'I', 'J',\n",
       "       'K', 'L', 'M', 'N', 'O', 'P', 'Q', 'R', 'S', 'T', 'U', 'V', 'W',\n",
       "       'X', 'Y', 'Z', '_', '`', 'a', 'b', 'c', 'd', 'e', 'f', 'g', 'h',\n",
       "       'i', 'j', 'k', 'l', 'm', 'n', 'o', 'p', 'q', 'r', 's', 't', 'u',\n",
       "       'v', 'w', 'x', 'y', 'z'], dtype='<U1')"
      ]
     },
     "execution_count": 7,
     "metadata": {},
     "output_type": "execute_result"
    }
   ],
   "source": [
    "# 筛选出文本数据中不同的字符\n",
    "vocab = np.array(sorted(set(text)))\n",
    "\n",
    "vocab"
   ]
  },
  {
   "cell_type": "code",
   "execution_count": 8,
   "id": "9c8723c2",
   "metadata": {},
   "outputs": [],
   "source": [
    "# 字符的数量\n",
    "vocab_size = len(vocab)"
   ]
  },
  {
   "cell_type": "code",
   "execution_count": 9,
   "id": "a5f7c215",
   "metadata": {},
   "outputs": [],
   "source": [
    "# 切分text为train和val\n",
    "# 假设 val 占比20%\n",
    "val_len = int(np.floor(0.2 * len(text)))"
   ]
  },
  {
   "cell_type": "code",
   "execution_count": 10,
   "id": "cc4570ef",
   "metadata": {},
   "outputs": [
    {
     "name": "stdout",
     "output_type": "stream",
     "text": [
      "(1588179,)\n",
      "(397044,)\n"
     ]
    }
   ],
   "source": [
    "# train 和 val\n",
    "trainset = np.array(list(text[:-val_len]))\n",
    "validset = np.array(list(text[-val_len:]))\n",
    "\n",
    "print(trainset.shape)\n",
    "print(validset.shape)"
   ]
  },
  {
   "cell_type": "code",
   "execution_count": 11,
   "id": "b094e2fb",
   "metadata": {},
   "outputs": [
    {
     "data": {
      "text/plain": [
       "lstm_model(\n",
       "  (lstm): LSTM(83, 512, num_layers=2, batch_first=True, dropout=0.5)\n",
       "  (linear): Linear(in_features=512, out_features=83, bias=True)\n",
       ")"
      ]
     },
     "execution_count": 11,
     "metadata": {},
     "output_type": "execute_result"
    }
   ],
   "source": [
    "# 定义超参数\n",
    "hidden_size = 512\n",
    "num_layers = 2\n",
    "batch_size = 128\n",
    "seq_len = 100\n",
    "epochs = 20\n",
    "lr = 0.01\n",
    "\n",
    "# 创建模型对象\n",
    "model = lstm_model(vocab, hidden_size, num_layers)\n",
    "\n",
    "model"
   ]
  },
  {
   "cell_type": "code",
   "execution_count": 12,
   "id": "fcb97d49",
   "metadata": {
    "scrolled": true
   },
   "outputs": [
    {
     "name": "stdout",
     "output_type": "stream",
     "text": [
      "----------------Epochs20 | 0------------------\n",
      "Train Loss : 382.8756055831909\n",
      "Val Loss : 90.34065246582031\n",
      "----------------Epochs20 | 1------------------\n",
      "Train Loss : 333.8630347251892\n",
      "Val Loss : 76.7127275466919\n",
      "----------------Epochs20 | 2------------------\n",
      "Train Loss : 277.4363099336624\n",
      "Val Loss : 62.32888305187225\n",
      "----------------Epochs20 | 3------------------\n",
      "Train Loss : 232.46113860607147\n",
      "Val Loss : 54.07800805568695\n",
      "----------------Epochs20 | 4------------------\n",
      "Train Loss : 206.96701729297638\n",
      "Val Loss : 49.434077978134155\n",
      "----------------Epochs20 | 5------------------\n",
      "Train Loss : 192.90114545822144\n",
      "Val Loss : 47.05249762535095\n",
      "----------------Epochs20 | 6------------------\n",
      "Train Loss : 184.00108790397644\n",
      "Val Loss : 45.60341167449951\n",
      "----------------Epochs20 | 7------------------\n",
      "Train Loss : 177.59676313400269\n",
      "Val Loss : 44.44968056678772\n",
      "----------------Epochs20 | 8------------------\n",
      "Train Loss : 172.98985993862152\n",
      "Val Loss : 43.56851041316986\n",
      "----------------Epochs20 | 9------------------\n",
      "Train Loss : 169.36556959152222\n",
      "Val Loss : 42.855921626091\n",
      "----------------Epochs20 | 10------------------\n",
      "Train Loss : 166.37993466854095\n",
      "Val Loss : 42.41605520248413\n",
      "----------------Epochs20 | 11------------------\n",
      "Train Loss : 163.90402376651764\n",
      "Val Loss : 41.94897377490997\n",
      "----------------Epochs20 | 12------------------\n",
      "Train Loss : 161.82879650592804\n",
      "Val Loss : 41.64819610118866\n",
      "----------------Epochs20 | 13------------------\n",
      "Train Loss : 160.00669145584106\n",
      "Val Loss : 41.38936734199524\n",
      "----------------Epochs20 | 14------------------\n",
      "Train Loss : 158.39794600009918\n",
      "Val Loss : 41.114556074142456\n",
      "----------------Epochs20 | 15------------------\n",
      "Train Loss : 157.09839940071106\n",
      "Val Loss : 41.18137073516846\n",
      "----------------Epochs20 | 16------------------\n",
      "Train Loss : 156.09681820869446\n",
      "Val Loss : 40.75697100162506\n",
      "----------------Epochs20 | 17------------------\n",
      "Train Loss : 154.61635649204254\n",
      "Val Loss : 40.50690424442291\n",
      "----------------Epochs20 | 18------------------\n",
      "Train Loss : 153.5401519536972\n",
      "Val Loss : 40.35079205036163\n",
      "----------------Epochs20 | 19------------------\n",
      "Train Loss : 152.611554145813\n",
      "Val Loss : 40.217474818229675\n"
     ]
    },
    {
     "data": {
      "image/png": "[encoded data removed]",
      "text/plain": [
       "<Figure size 640x480 with 1 Axes>"
      ]
     },
     "metadata": {},
     "output_type": "display_data"
    }
   ],
   "source": [
    "train(model, trainset, batch_size, seq_len, epochs, lr=lr, valid=validset)"
   ]
  },
  {
   "cell_type": "markdown",
   "id": "fe6aa4f0",
   "metadata": {},
   "source": [
    "### 模型预测"
   ]
  },
  {
   "cell_type": "code",
   "execution_count": 19,
   "id": "61db24c6",
   "metadata": {},
   "outputs": [],
   "source": [
    "def predict(model, char, top_k = None, hidden_size = None):\n",
    "    device = 'cuda' if torch.cuda.is_available() else 'cpu'\n",
    "    model.to(device)\n",
    "    model.eval()\n",
    "    with torch.no_grad():\n",
    "        char = np.array([char]) # 转换为array\n",
    "        char = char.reshape(-1, 1) # shape转换\n",
    "        char_encoding = model.onehot_encode(char) # encoding\n",
    "        char_encoding = char_encoding.reshape(1, 1, -1) # (batch_size, seq_len, num_features)\n",
    "        char_tensor = torch.tensor(char_encoding, dtype=torch.float32) # 类型转换\n",
    "        char_tensor = char_tensor.to(device) # 部署到device上\n",
    "        \n",
    "        out, hidden_size = model(char_tensor, hidden_size) # 模型预测\n",
    "        \n",
    "        probs = F.softmax(out, dim=1).squeeze() \n",
    "        \n",
    "        if top_k is None:\n",
    "            indices = np.arange(vocab_size)\n",
    "        else:\n",
    "            probs, indices = probs.topk(top_k) # 选取概率最大的前top_k个\n",
    "            indices = indices.cpu().numpy()\n",
    "            \n",
    "        probs = probs.cpu().numpy()\n",
    "        \n",
    "        char_index = np.random.choice(indices, p = probs / probs.sum()) # 随机选取一个索引\n",
    "        char = model.int_char[char_index] # 获取索引对应的字符\n",
    "        \n",
    "    return char, hidden_size"
   ]
  },
  {
   "cell_type": "code",
   "execution_count": 20,
   "id": "9f8048e3",
   "metadata": {},
   "outputs": [],
   "source": [
    "# 选取一个样本\n",
    "def sample(model, length, top_k = None, sentence=\"every unhappy family\"):\n",
    "    hidden_size = None # 初始化\n",
    "    new_sentence = [char for char in sentence] # 初始化\n",
    "    for i in range(length):\n",
    "        next_char, hidden_size = predict(model, new_sentence[-1], top_k = top_k, hidden_size = hidden_size) # 预测下一个字符\n",
    "        new_sentence.append(next_char)\n",
    "        \n",
    "    return ''.join(new_sentence)"
   ]
  },
  {
   "cell_type": "code",
   "execution_count": 21,
   "id": "020698a2",
   "metadata": {},
   "outputs": [],
   "source": [
    "new_text = sample(model, 2000, top_k=5)"
   ]
  },
  {
   "cell_type": "code",
   "execution_count": 24,
   "id": "0e6f7433",
   "metadata": {},
   "outputs": [
    {
     "data": {
      "text/plain": [
       "'every unhappy family its of an agreeable tone. It\\'s no distress this work, and at all they had chiler, but that has come to spick\\nthe\\nrecape. Although she divusing a\\nladge of his hoot to him.\\n\\n\"You do you could not tell your orest to her, and, I wanted to speak\\nthat,\" said Kitty. \"Allow teach to the coachion.... The same!\"\\n\\n\"It\\'s always so\\nmy leaving the solitan is\\nsuch a conversation. That\\'s the mullinated thing of\\nit. And the matter\\nthe triving conversations, that you could never take its in\\nthrough here.......\"\\n\\n\"What a crused you\\'ve never seen me?\" he said, smiled and turning at the might seeked it on, so as to his head of the corner were\\nstarming on\\nhis face without his sour and\\nsuch\\nas she were to say to the children in spite of his\\nside.\\n\\n\"You do nothing,\" said Kitty, smiling\\nin the steps and walking up to him and the country of the same three, and that she said:\\n\\n\"I am too likely on the seconds of this study, and she decided me.\\nBut too wondering at the marshom in his heart with\\nthe presents or at the room at the same. I am not been\\nto be the principle that I am a new\\nsours in his brother\\'s caring in\\nthe part, but what happened with\\nme.\"\\n\\nThe possibility\\nof their horse of the court, the distraction of them or noticed, and to him to the strange, and the\\npriest that if it was to she addreaded over it. She was too much went away, and her\\neyes in the doing order to a group, and so impointed to her\\nhusband. He came\\na lady to business their side of her soldes the pride in a person and strucking away her. This started sighed pleasment who was an importance, but that he had been set of all a children to the same finger.\\n\\n\"Will you are you?\"\\n\\n\"Wait a position...\"\\n\\n\"Of course, I\\'m not the corner, and I\\'ll have never seen that it\\'s neck.\"\\n\\n\"When I will be my daughters. But you\\'re coming on the position, and seeks.\"\\n\\n\"We\\'ve been come,\" Anna was struck her, and a smile of some one of the defending and her eyes; but he was sitting to\\nhim imached in the sofa.\\n\\n\"Well, if you wouldn\\'t be, it\\'s '"
      ]
     },
     "execution_count": 24,
     "metadata": {},
     "output_type": "execute_result"
    }
   ],
   "source": [
    "new_text"
   ]
  },
  {
   "cell_type": "markdown",
   "id": "950e40e7",
   "metadata": {},
   "source": [
    "### 保存模型"
   ]
  },
  {
   "cell_type": "code",
   "execution_count": 23,
   "id": "f37b01e6",
   "metadata": {},
   "outputs": [],
   "source": [
    "model_name = \"lstm_model.net\"\n",
    "\n",
    "checkpoint = {\n",
    "    'hidden_size' : model.hidden_size,\n",
    "    'num_layers' : model.num_layers,\n",
    "    'state_dict' : model.state_dict()\n",
    "}\n",
    "\n",
    "with open(model_name, 'wb') as f:\n",
    "    torch.save(checkpoint, f)"
   ]
  },
  {
   "cell_type": "code",
   "execution_count": null,
   "id": "365a1f4c",
   "metadata": {},
   "outputs": [],
   "source": []
  }
 ],
 "metadata": {
  "kernelspec": {
   "display_name": "Python 3 (ipykernel)",
   "language": "python",
   "name": "python3"
  },
  "language_info": {
   "codemirror_mode": {
    "name": "ipython",
    "version": 3
   },
   "file_extension": ".py",
   "mimetype": "text/x-python",
   "name": "python",
   "nbconvert_exporter": "python",
   "pygments_lexer": "ipython3",
   "version": "3.7.12"
  }
 },
 "nbformat": 4,
 "nbformat_minor": 5
}
