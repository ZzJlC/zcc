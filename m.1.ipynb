{
 "cells": [
  {
   "cell_type": "code",
   "execution_count": 1,
   "id": "217b360e",
   "metadata": {},
   "outputs": [],
   "source": [
    "# 加载必要的库\n",
    "import torch\n",
    "import torch.nn as nn\n",
    "import torch.nn.functional as F\n",
    "import torch.optim as optim\n",
    "from torchvision import datasets, transforms"
   ]
  },
  {
   "cell_type": "code",
   "execution_count": 2,
   "id": "308b9edc",
   "metadata": {},
   "outputs": [],
   "source": [
    "# 定义超参数 (超参数是人为定义的， 参数是机器学习的)\n",
    "BATCH_SIZE = 16 # 每批处理的数据多少\n",
    "DEVICE = torch.device(\"cuda\" if torch.cuda.is_available() else\"cpu\")# 决定是gpu还是cpu训练\n",
    "EPOCHS = 10 # 训练数据集的轮次"
   ]
  },
  {
   "cell_type": "code",
   "execution_count": 3,
   "id": "15e59958",
   "metadata": {},
   "outputs": [],
   "source": [
    "# 构建pipeline，对图像做处理\n",
    "pipeline = transforms.Compose([\n",
    "    transforms.ToTensor(),  # 将图片转换成tensor\n",
    "    transforms.Normalize((0.1307,), (0.3081,)) #正则化 降低模型的复杂度\n",
    "])"
   ]
  },
  {
   "cell_type": "code",
   "execution_count": 4,
   "id": "4fa0d719",
   "metadata": {},
   "outputs": [],
   "source": [
    "# 下载 加载数据\n",
    "from torch.utils.data import DataLoader\n",
    "\n",
    "# 下载数据集\n",
    "train_set = datasets.MNIST(\"data\", train=True, download=True, transform=pipeline)\n",
    "\n",
    "test_set = datasets.MNIST(\"data\", train=False, download=True, transform=pipeline)\n",
    "\n",
    "# 加载数据\n",
    "train_loader = DataLoader(train_set, batch_size=BATCH_SIZE, shuffle=True)\n",
    "\n",
    "test_loader = DataLoader(test_set, batch_size=BATCH_SIZE, shuffle=True)"
   ]
  },
  {
   "cell_type": "code",
   "execution_count": 5,
   "id": "212861da",
   "metadata": {},
   "outputs": [],
   "source": [
    "# import torchvision\n",
    "# train_set = torchvision.datasets.MNIST(root='/Users/zhangchu/miniconda3/notebook/data/MNIST',\n",
    "#                                            train=True,\n",
    "#                                            transform=transforms.ToTensor(),\n",
    "#                                            download=False\n",
    "# )\n",
    "# test_set = torchvision.datasets.MNIST(root='/Users/zhangchu/miniconda3/notebook/data/MNIST',\n",
    "#                                       train=False,\n",
    "#                                       transform=transforms.ToTensor(),\n",
    "#                                       download=False\n",
    "# )"
   ]
  },
  {
   "cell_type": "code",
   "execution_count": 6,
   "id": "d28d4bc3",
   "metadata": {},
   "outputs": [],
   "source": [
    "# 读取图片\n",
    "with open(\"./data/MNIST/raw/train-images-idx3-ubyte\", \"rb\") as f:\n",
    "    file = f.read()"
   ]
  },
  {
   "cell_type": "code",
   "execution_count": 7,
   "id": "a3f2f3d3",
   "metadata": {},
   "outputs": [],
   "source": [
    "image1 = [int(str(item).encode('ascii'), 16)for item in file[16 : 16+784]]\n",
    "# print(image1)"
   ]
  },
  {
   "cell_type": "code",
   "execution_count": 8,
   "id": "1f3f899a",
   "metadata": {},
   "outputs": [
    {
     "name": "stdout",
     "output_type": "stream",
     "text": [
      "(28, 28, 1)\n"
     ]
    }
   ],
   "source": [
    "import cv2\n",
    "import numpy as np\n",
    "\n",
    "image1_np = np.array(image1, dtype=np.uint8).reshape(28, 28, 1)\n",
    "\n",
    "print(image1_np.shape)"
   ]
  },
  {
   "cell_type": "code",
   "execution_count": 9,
   "id": "9267b93d",
   "metadata": {},
   "outputs": [
    {
     "data": {
      "text/plain": [
       "True"
      ]
     },
     "execution_count": 9,
     "metadata": {},
     "output_type": "execute_result"
    }
   ],
   "source": [
    "cv2.imwrite(\"digit.jpg\", image1_np)"
   ]
  },
  {
   "cell_type": "code",
   "execution_count": 10,
   "id": "b19a17e7",
   "metadata": {},
   "outputs": [],
   "source": [
    "# 构建网络模型\n",
    "class Digit(nn.Module):\n",
    "    def __init__(self):\n",
    "        super(). __init__()\n",
    "        # 定义卷积层\n",
    "        self.conv1 = nn.Conv2d(1, 10, 5)# 1：灰度图片的通道， 10：输出通道， 5：kernel\n",
    "        self.conv2 = nn.Conv2d(10, 20, 3)# 10：输入通道， 20：输出通道， 3：kernel\n",
    "        # 定义全连接层\n",
    "        self.fc1 = nn.Linear(20*10*10, 500)# 20*10*10:输入通道， 500：输出通道\n",
    "        self.fc2 = nn.Linear(500, 10)#500：输入通道， 10：输出通道\n",
    "        \n",
    "    # 定义前向传播\n",
    "    def forward(self, x):\n",
    "        input_size = x.size(0)# batch_size\n",
    "        x = self.conv1(x)# 输入：batch*1*28*28, 输出：batch*10*24*24 (28-5+1=24)\n",
    "        x = F.relu(x)#保持shape不变，输出：batch*10*24*24  激活函数\n",
    "        x = F.max_pool2d(x, 2, 2)# 输入：batch*10*24*24, 输出：batch*10*12*12\n",
    "        \n",
    "        x = self.conv2(x)#输入：batch*10*12*12, 输出：batch*20*10*10 (12-3+1)\n",
    "        x = F.relu(x)\n",
    "        \n",
    "        x = x.view(input_size, -1)#拉平， -1：自动计算维度，20*10*10=2000\n",
    "        \n",
    "        x = self.fc1(x)# 输入：batch*2000，输出：batch*500\n",
    "        x = F.relu(x)#保持shape不变\n",
    "        \n",
    "        x = self.fc2(x)# 输入：batch*500，输出：batch*10\n",
    "        \n",
    "        output = F.log_softmax(x, dim=1)# dim表示按行计算。计算分类后，每个数字的概率值\n",
    "        \n",
    "        return output"
   ]
  },
  {
   "cell_type": "code",
   "execution_count": 11,
   "id": "82ec6f12",
   "metadata": {},
   "outputs": [],
   "source": [
    "# 定义优化器\n",
    "model = Digit().to(DEVICE)\n",
    "\n",
    "optimizer = optim.Adam(model.parameters())"
   ]
  },
  {
   "cell_type": "code",
   "execution_count": 12,
   "id": "4942bc33",
   "metadata": {},
   "outputs": [],
   "source": [
    "# 定义训练方法\n",
    "def train_model(model, device, train_loader, optimizer, epoch):\n",
    "    # 模型训练\n",
    "    model.train()\n",
    "    for batch_index, (data, target) in enumerate(train_loader):\n",
    "        # 部署到DEVICE上去\n",
    "        data, target = data.to(device), target.to(device)\n",
    "        # 梯度初始化为0\n",
    "        optimizer.zero_grad()\n",
    "        # 训练后的结果\n",
    "        output = model(data)\n",
    "        # 计算损失\n",
    "        loss = F.cross_entropy(output, target)\n",
    "#         # 找到概率值最大的下标\n",
    "#         pred = output.max(1, keepdim=True)\n",
    "        # 反向传播\n",
    "        loss.backward()\n",
    "        # 参数优化\n",
    "        optimizer.step()\n",
    "        if batch_index % 3000 == 0:\n",
    "            print(\"Train Epoch : {} \\t Loss : {:.6f}\". format(epoch, loss.item()))"
   ]
  },
  {
   "cell_type": "code",
   "execution_count": 13,
   "id": "f13e14bd",
   "metadata": {},
   "outputs": [],
   "source": [
    "# 定义测试方法\n",
    "def test_model(model, device, test_loader):\n",
    "    # 模型验证\n",
    "    model.eval()\n",
    "    # 正确率\n",
    "    correct = 0.0\n",
    "    # 测试损失\n",
    "    test_loss = 0.0\n",
    "    with torch.no_grad():     # 不会计算梯度，也不会进行反向传播\n",
    "        for data, target in test_loader:\n",
    "            # 部署到device上\n",
    "            data, target = data.to(device), target.to(device)\n",
    "            # 测试数据\n",
    "            output = model(data)\n",
    "            # 计算测试损失\n",
    "            test_loss +=F.cross_entropy(output, target).item()\n",
    "            # 找到概率值最大的下标\n",
    "            pred = output.max(1, keepdim=True)[1]\n",
    "            # 累计正确的值\n",
    "            correct += pred.eq(target.view_as(pred)).sum().item()\n",
    "        test_loss /= len(test_loader.dataset)\n",
    "        print(\"Test --- Average loss : {:.4f}, Accuracy : {:.3f}\\n\".format(\n",
    "              test_loss, 100.0* correct / len(test_loader.dataset)))"
   ]
  },
  {
   "cell_type": "code",
   "execution_count": 14,
   "id": "83306ae8",
   "metadata": {},
   "outputs": [
    {
     "name": "stdout",
     "output_type": "stream",
     "text": [
      "Train Epoch : 1 \t Loss : 2.293501\n",
      "Train Epoch : 1 \t Loss : 0.176619\n",
      "Test --- Average loss : 0.0028, Accuracy : 98.500\n",
      "\n",
      "Train Epoch : 2 \t Loss : 0.007827\n",
      "Train Epoch : 2 \t Loss : 0.004565\n",
      "Test --- Average loss : 0.0027, Accuracy : 98.480\n",
      "\n",
      "Train Epoch : 3 \t Loss : 0.000475\n",
      "Train Epoch : 3 \t Loss : 0.000021\n",
      "Test --- Average loss : 0.0021, Accuracy : 98.930\n",
      "\n",
      "Train Epoch : 4 \t Loss : 0.001975\n",
      "Train Epoch : 4 \t Loss : 0.000003\n",
      "Test --- Average loss : 0.0025, Accuracy : 98.780\n",
      "\n",
      "Train Epoch : 5 \t Loss : 0.001599\n",
      "Train Epoch : 5 \t Loss : 0.000382\n",
      "Test --- Average loss : 0.0025, Accuracy : 98.940\n",
      "\n",
      "Train Epoch : 6 \t Loss : 0.010042\n",
      "Train Epoch : 6 \t Loss : 0.000004\n",
      "Test --- Average loss : 0.0034, Accuracy : 98.730\n",
      "\n",
      "Train Epoch : 7 \t Loss : 0.000025\n",
      "Train Epoch : 7 \t Loss : 0.000000\n",
      "Test --- Average loss : 0.0031, Accuracy : 98.850\n",
      "\n",
      "Train Epoch : 8 \t Loss : 0.001381\n",
      "Train Epoch : 8 \t Loss : 0.000153\n",
      "Test --- Average loss : 0.0033, Accuracy : 99.020\n",
      "\n",
      "Train Epoch : 9 \t Loss : 0.000005\n",
      "Train Epoch : 9 \t Loss : 0.000006\n",
      "Test --- Average loss : 0.0048, Accuracy : 98.690\n",
      "\n",
      "Train Epoch : 10 \t Loss : 0.000005\n",
      "Train Epoch : 10 \t Loss : 0.004494\n",
      "Test --- Average loss : 0.0044, Accuracy : 98.960\n",
      "\n"
     ]
    }
   ],
   "source": [
    "# 调用上面的方法\n",
    "for epoch in range(1, EPOCHS + 1):\n",
    "    train_model(model, DEVICE, train_loader, optimizer, epoch)\n",
    "    test_model(model, DEVICE, test_loader)"
   ]
  },
  {
   "cell_type": "code",
   "execution_count": null,
   "id": "0db9665d",
   "metadata": {},
   "outputs": [],
   "source": []
  }
 ],
 "metadata": {
  "kernelspec": {
   "display_name": "Python 3 (ipykernel)",
   "language": "python",
   "name": "python3"
  },
  "language_info": {
   "codemirror_mode": {
    "name": "ipython",
    "version": 3
   },
   "file_extension": ".py",
   "mimetype": "text/x-python",
   "name": "python",
   "nbconvert_exporter": "python",
   "pygments_lexer": "ipython3",
   "version": "3.7.12"
  }
 },
 "nbformat": 4,
 "nbformat_minor": 5
}
