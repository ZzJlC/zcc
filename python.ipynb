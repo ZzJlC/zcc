{
 "cells": [
  {
   "cell_type": "code",
   "execution_count": 1,
   "id": "ba4d0cc3",
   "metadata": {},
   "outputs": [],
   "source": [
    "import cv2\n",
    "import matplotlib.pyplot as plt\n",
    "import numpy as np\n",
    "%matplotlib inline"
   ]
  },
  {
   "cell_type": "markdown",
   "id": "0241ebc0",
   "metadata": {},
   "source": [
    "# 基本捕获bug语法"
   ]
  },
  {
   "cell_type": "code",
   "execution_count": 2,
   "id": "3952445b",
   "metadata": {},
   "outputs": [],
   "source": [
    "try:\n",
    "    f = open(\"D:/abc.txt\",\"r\",encoding=\"UTF-8\")\n",
    "except:\n",
    "    print(f\"出现异常了，因为文件不存在，我将open的模式，改为w模式去打开\")\n",
    "    f = open(\"D:/abc.txt\", \"w\", encoding= \"UTF- 8\")\n"
   ]
  },
  {
   "cell_type": "markdown",
   "id": "4904a27f",
   "metadata": {},
   "source": [
    "# 捕获指定异常"
   ]
  },
  {
   "cell_type": "code",
   "execution_count": 3,
   "id": "e9ee846a",
   "metadata": {},
   "outputs": [
    {
     "name": "stdout",
     "output_type": "stream",
     "text": [
      "出现了变量未定义的异常\n",
      "name 'name' is not defined\n"
     ]
    }
   ],
   "source": [
    "try:\n",
    "    print(name)\n",
    "    # 1 / 0\n",
    "except NameError as p:\n",
    "    print(\"出现了变量未定义的异常\")\n",
    "    print(p)\n"
   ]
  },
  {
   "cell_type": "markdown",
   "id": "a5320faa",
   "metadata": {},
   "source": [
    "# 捕获多个异常"
   ]
  },
  {
   "cell_type": "code",
   "execution_count": 4,
   "id": "52ff9925",
   "metadata": {},
   "outputs": [
    {
     "name": "stdout",
     "output_type": "stream",
     "text": [
      "出现了变量未定义或者除以0的异常错误\n"
     ]
    }
   ],
   "source": [
    "try:\n",
    "    # 1 / 0\n",
    "    print(name)\n",
    "except (NameError,ZeroDivisionError) as e:\n",
    "    print(\"出现了变量未定义或者除以0的异常错误\")"
   ]
  },
  {
   "cell_type": "markdown",
   "id": "e7590d33",
   "metadata": {},
   "source": [
    "# 未正确设置捕获异常类型，将无法捕获异常\n",
    "\n",
    "# 捕获所有异常"
   ]
  },
  {
   "cell_type": "code",
   "execution_count": 5,
   "id": "b7c4e2ac",
   "metadata": {},
   "outputs": [
    {
     "name": "stdout",
     "output_type": "stream",
     "text": [
      "好高兴，没有异常\n",
      "我是finally,有没有异常我都要执行\n"
     ]
    }
   ],
   "source": [
    "try:\n",
    "    f = open(\"D:/123.txt\",\"r\",encoding=\"UTF-8\")\n",
    "except Exception as e:\n",
    "    print(\"出现异常了\")\n",
    "    f = open(\"D:/123.txt\", \"w\", encoding=\"UTF-8\")\n",
    "else:\n",
    "    print(\"好高兴，没有异常\")\n",
    "finally:\n",
    "    print(\"我是finally,有没有异常我都要执行\")\n",
    "    f.close()\n"
   ]
  },
  {
   "cell_type": "markdown",
   "id": "a4113255",
   "metadata": {},
   "source": [
    "# 异常是有传递的"
   ]
  },
  {
   "cell_type": "code",
   "execution_count": 6,
   "id": "7d6f4ec0",
   "metadata": {},
   "outputs": [
    {
     "name": "stdout",
     "output_type": "stream",
     "text": [
      "func2 开始执行\n",
      "func1 开始执行\n",
      "出现异常了，异常的信息是:division by zero\n"
     ]
    }
   ],
   "source": [
    "def func1():\n",
    "    print(\"func1 开始执行\")\n",
    "    num = 1 / 0\n",
    "    print(\"func1 结束执行\")\n",
    "def func2():\n",
    "    print(\"func2 开始执行\")\n",
    "    func1()\n",
    "    print(\"func2 结束执行\")\n",
    "def main():\n",
    "    try:\n",
    "        func2()\n",
    "    except Exception as e:\n",
    "        print(f\"出现异常了，异常的信息是:{e}\")\n",
    "main()"
   ]
  },
  {
   "cell_type": "markdown",
   "id": "2f4767b7",
   "metadata": {},
   "source": [
    "# from 模块名 import 函数|变量|类|模块| * as 别名"
   ]
  },
  {
   "cell_type": "code",
   "execution_count": 7,
   "id": "20fc048a",
   "metadata": {},
   "outputs": [],
   "source": [
    "#eg\n",
    "# from time import sleep as s"
   ]
  },
  {
   "cell_type": "code",
   "execution_count": 8,
   "id": "383f0c8c",
   "metadata": {},
   "outputs": [],
   "source": [
    "#eg\n",
    "# import time\n",
    "# time.sleep\n",
    "# sleep()"
   ]
  },
  {
   "cell_type": "code",
   "execution_count": 9,
   "id": "ee1bf4cb",
   "metadata": {},
   "outputs": [],
   "source": [
    "#eg\n",
    "# from time import *\n",
    "# sleep()"
   ]
  },
  {
   "cell_type": "markdown",
   "id": "ee5f0054",
   "metadata": {},
   "source": [
    "# 数据可视化"
   ]
  },
  {
   "cell_type": "markdown",
   "id": "1248f55d",
   "metadata": {},
   "source": [
    "#### 将python数据转换为json数据\n",
    "- json.dumps()\n",
    "- 如果有中文可以带上ensure_ascii=False\n",
    "#### 将json数据转换为python数据\n",
    "- json.loads()\n",
    "- json必须双引号 所以python字符串要单引号包裹"
   ]
  },
  {
   "cell_type": "markdown",
   "id": "d6d9ed28",
   "metadata": {},
   "source": [
    "### 基础的折线图"
   ]
  },
  {
   "cell_type": "code",
   "execution_count": 1,
   "id": "3838b29a",
   "metadata": {},
   "outputs": [
    {
     "data": {
      "text/plain": [
       "'E:\\\\Users\\\\zhangchu\\\\miniconda3\\\\notebook\\\\render.html'"
      ]
     },
     "execution_count": 1,
     "metadata": {},
     "output_type": "execute_result"
    }
   ],
   "source": [
    "from pyecharts.charts import Line\n",
    "from pyecharts.options import TitleOpts,LegendOpts,ToolboxOpts,VisualMapOpts\n",
    "\n",
    "line = Line()\n",
    "line.add_xaxis([\"中国\",\"美国\",\"英国\"])\n",
    "line.add_yaxis(\"GDP\",[30,20,10])\n",
    "\n",
    "\n",
    "#设置全局配置项\n",
    "line.set_global_opts(\n",
    "    title_opts=TitleOpts(title=\"GDP展示\",pos_left=\"center\",pos_bottom=\"1%\"),\n",
    "    legend_opts=LegendOpts(is_show=True),\n",
    "    toolbox_opts=ToolboxOpts(is_show=True),\n",
    "    visualmap_opts=VisualMapOpts(is_show=True)\n",
    ")\n",
    "\n",
    "\n",
    "\n",
    "\n",
    "line.render()"
   ]
  },
  {
   "cell_type": "markdown",
   "id": "846b9559",
   "metadata": {},
   "source": [
    "### 绘制地图"
   ]
  },
  {
   "cell_type": "code",
   "execution_count": 1,
   "id": "ad2d3049",
   "metadata": {},
   "outputs": [
    {
     "data": {
      "text/plain": [
       "'E:\\\\Users\\\\zhangchu\\\\miniconda3\\\\notebook\\\\全国疫情地图.html'"
      ]
     },
     "execution_count": 1,
     "metadata": {},
     "output_type": "execute_result"
    }
   ],
   "source": [
    "import json\n",
    "from pyecharts.charts import Map\n",
    "from pyecharts.options import *\n",
    "\n",
    "\n",
    "f = open(\"D:/疫情.txt\", \"r\", encoding=\"UTF-8\")\n",
    "data = f.read()\n",
    "f.close()\n",
    "data_dict = json.loads(data)\n",
    "province_data_list = data_dict[\"areaTree\"][0][\"children\"]\n",
    "data_list = []\n",
    "for province_data in province_data_list:\n",
    "    province_name = province_data[\"name\"]\n",
    "    province_name +=\"省\"\n",
    "    province_confirm = province_data[\"total\"][\"confirm\"]\n",
    "    data_list.append((province_name, province_confirm))\n",
    "\n",
    "map = Map()\n",
    "map.add(\"各省份确诊人数\", data_list, \"china\")\n",
    "map.set_global_opts(\n",
    "    title_opts=TitleOpts(title=\"全国疫情地图\"),\n",
    "    visualmap_opts=VisualMapOpts(\n",
    "        is_show=True,\n",
    "        is_piecewise=True,\n",
    "        pieces=[\n",
    "            {\"min\":1, \"max\":99, \"label\": \"1~99人\", \"color\": \"#CCFFFF\"},\n",
    "            {\"min\": 100, \"max\": 999, \"label\": \"100~999人\", \"color\": \"#FFFF99\"},\n",
    "            {\"min\": 1000, \"max\": 4999, \"label\": \"1000~4999人\", \"color\": \"#FF9966\"},\n",
    "            {\"min\": 5000, \"max\": 9999, \"label\": \"5000~9999人\", \"color\": \"#FF6666\"},\n",
    "            {\"min\": 10000, \"max\": 99999, \"label\": \"10000~99999人\", \"color\": \"#CC3333\"},\n",
    "            {\"min\": 100000, \"label\": \"100000+\", \"color\": \"#990033\"}\n",
    "        ]\n",
    "    )\n",
    ")\n",
    "\n",
    "map.render(\"全国疫情地图.html\")\n"
   ]
  },
  {
   "cell_type": "markdown",
   "id": "c0251111",
   "metadata": {},
   "source": [
    "# 柱状图\n",
    "- 基本柱状图"
   ]
  },
  {
   "cell_type": "code",
   "execution_count": 2,
   "id": "9b83f2db",
   "metadata": {},
   "outputs": [
    {
     "data": {
      "text/plain": [
       "'E:\\\\Users\\\\zhangchu\\\\miniconda3\\\\notebook\\\\基础时间线柱状图.html'"
      ]
     },
     "execution_count": 2,
     "metadata": {},
     "output_type": "execute_result"
    }
   ],
   "source": [
    "from pyecharts.charts import Bar, Timeline\n",
    "from pyecharts.options import LabelOpts\n",
    "from pyecharts.globals import ThemeType\n",
    "\n",
    "bar1 = Bar()\n",
    "bar1.add_xaxis([\"中国\",\"美国\",\"英国\"])\n",
    "bar1.add_yaxis(\"GDP\", [30,20,10], label_opts=LabelOpts(position=\"right\"))\n",
    "bar1.reversal_axis()\n",
    "\n",
    "bar2 = Bar()\n",
    "bar2.add_xaxis([\"中国\",\"美国\",\"英国\"])\n",
    "bar2.add_yaxis(\"GDP\", [50,40,30], label_opts=LabelOpts(position=\"right\"))\n",
    "bar2.reversal_axis()\n",
    "\n",
    "bar3 = Bar()\n",
    "bar3.add_xaxis([\"中国\",\"美国\",\"英国\"])\n",
    "bar3.add_yaxis(\"GDP\", [70,60,50], label_opts=LabelOpts(position=\"right\"))\n",
    "bar3.reversal_axis()\n",
    "\n",
    "\n",
    "timeline = Timeline({\"theme\": ThemeType.PURPLE_PASSION})\n",
    "timeline.add(bar1, \"点1\")\n",
    "timeline.add(bar2, \"点2\")\n",
    "timeline.add(bar3, \"点3\")\n",
    "\n",
    "timeline.add_schema(\n",
    "    play_interval=1000,\n",
    "    is_timeline_show=True,\n",
    "    is_auto_play=True,\n",
    "    is_loop_play=True\n",
    ")\n",
    "\n",
    "timeline.render(\"基础时间线柱状图.html\")"
   ]
  },
  {
   "cell_type": "markdown",
   "id": "168b66d4",
   "metadata": {},
   "source": [
    "- 1"
   ]
  },
  {
   "cell_type": "code",
   "execution_count": 1,
   "id": "c8408c49",
   "metadata": {},
   "outputs": [
    {
     "data": {
      "text/plain": [
       "'E:\\\\Users\\\\zhangchu\\\\miniconda3\\\\notebook\\\\1960-2019全球GDP前8国家.html'"
      ]
     },
     "execution_count": 1,
     "metadata": {},
     "output_type": "execute_result"
    }
   ],
   "source": [
    "from pyecharts.charts import Bar, Timeline\n",
    "from pyecharts.options import *\n",
    "from pyecharts.globals import ThemeType\n",
    "#读取数据\n",
    "f = open(\"D:/1960-2019全球GDP数据.csv\", \"r\", encoding=\"GB2312\")\n",
    "data_lines = f.readlines()\n",
    "f.close()\n",
    "#删除第一条数据\n",
    "data_lines.pop(0)\n",
    "#将数据转换为字典存储,格式为:\n",
    "#{年份: [[国家, gdp], ...], ...}\n",
    "data_dict = {}\n",
    "for line in data_lines:\n",
    "    year = int(line.split(\",\")[0])\n",
    "    country = line.split(\",\")[1]\n",
    "    gdp = float(line.split(\",\")[2])\n",
    "    #判断字典里面有没有指定的key\n",
    "    try:\n",
    "        data_dict[year].append([country, gdp ])\n",
    "    except KeyError:\n",
    "        data_dict[year] = []\n",
    "        data_dict[year].append([country, gdp ])\n",
    "#创建时间线对象\n",
    "timeline = Timeline({\"theme\": ThemeType.DARK})\n",
    "#排序年份\n",
    "sorted_year_list = sorted(data_dict.keys())\n",
    "for year in sorted_year_list:\n",
    "    data_dict[year].sort(key = lambda element: element[1], reverse=True) #对本年份里各国家的gdp数据进行排序\n",
    "    #取出本年份前8名的国家\n",
    "    year_data = data_dict[year][0:8]\n",
    "    x_data = []\n",
    "    y_data = []\n",
    "    for country_gdp in year_data:\n",
    "        x_data.append(country_gdp[0]) #x轴添加国家\n",
    "        y_data.append(country_gdp[1] / 100000000) #y轴添加gdp数据\n",
    "\n",
    "        bar = Bar()\n",
    "        # x_data.reverse()\n",
    "        # y_data.reverse()\n",
    "        bar.add_xaxis(x_data)\n",
    "        bar.add_yaxis(\"GDP(亿)\", y_data, label_opts=LabelOpts(position=\"right\")) #把数据放在右侧\n",
    "        bar.reversal_axis() #x轴和y轴反转\n",
    "        bar.set_global_opts(\n",
    "            title_opts=TitleOpts(title=f\"{year}年全球前8GDP数据\")\n",
    "        )\n",
    "\n",
    "        timeline.add(bar, str(year))\n",
    "\n",
    "#自动播放设置\n",
    "timeline.add_schema(\n",
    "    play_interval=1000,\n",
    "    is_timeline_show=True,\n",
    "    is_auto_play=True,\n",
    "    is_loop_play=False\n",
    ")\n",
    "timeline.render(\"1960-2019全球GDP前8国家.html\")"
   ]
  },
  {
   "cell_type": "markdown",
   "id": "c184eef7",
   "metadata": {},
   "source": [
    "# 构造方法"
   ]
  },
  {
   "cell_type": "code",
   "execution_count": null,
   "id": "83a6c4be",
   "metadata": {},
   "outputs": [
    {
     "name": "stdout",
     "output_type": "stream",
     "text": [
      "当前录入第1位学生信息，总共需录入10位学生信息\n"
     ]
    }
   ],
   "source": [
    "class Student:\n",
    "\n",
    "  def __init__(self,name,age,address):\n",
    "    self.name = name\n",
    "    self.age = age\n",
    "    self.address = address\n",
    "\n",
    "for i in range(1,11):\n",
    "  print(f\"当前录入第{i}位学生信息，总共需录入10位学生信息\")\n",
    "  name = input(\"请输入学生姓名:\")\n",
    "  age = input(\"请输入学生年龄:\")\n",
    "  address = input(\"请输入学生地址:\")\n",
    "  stu=Student(name, age, address)\n",
    "  print(f\"学生{i}信息录入完成,信息为[学生姓名:{stu.name},年龄:{stu.age},地址：{stu.address}]\")"
   ]
  },
  {
   "cell_type": "code",
   "execution_count": null,
   "id": "6df06cf9",
   "metadata": {},
   "outputs": [],
   "source": []
  }
 ],
 "metadata": {
  "kernelspec": {
   "display_name": "Python 3 (ipykernel)",
   "language": "python",
   "name": "python3"
  },
  "language_info": {
   "codemirror_mode": {
    "name": "ipython",
    "version": 3
   },
   "file_extension": ".py",
   "mimetype": "text/x-python",
   "name": "python",
   "nbconvert_exporter": "python",
   "pygments_lexer": "ipython3",
   "version": "3.7.12"
  }
 },
 "nbformat": 4,
 "nbformat_minor": 5
}
